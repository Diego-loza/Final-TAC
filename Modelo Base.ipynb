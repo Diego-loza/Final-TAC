{
 "cells": [
  {
   "cell_type": "markdown",
   "id": "ad518ee9",
   "metadata": {},
   "source": [
    "# Inicializacion"
   ]
  },
  {
   "cell_type": "markdown",
   "id": "25342903",
   "metadata": {},
   "source": [
    "### Importar librerías"
   ]
  },
  {
   "cell_type": "code",
   "execution_count": 9,
   "id": "5da68275",
   "metadata": {},
   "outputs": [],
   "source": [
    "import numpy as np\n",
    "import pandas as pd\n",
    "import tensorflow as tf"
   ]
  },
  {
   "cell_type": "markdown",
   "id": "17ecf8d1",
   "metadata": {},
   "source": [
    "### Importar data"
   ]
  },
  {
   "cell_type": "code",
   "execution_count": null,
   "id": "04d92f50",
   "metadata": {},
   "outputs": [],
   "source": []
  }
 ],
 "metadata": {
  "kernelspec": {
   "display_name": "Python 3 (ipykernel)",
   "language": "python",
   "name": "python3"
  },
  "language_info": {
   "codemirror_mode": {
    "name": "ipython",
    "version": 3
   },
   "file_extension": ".py",
   "mimetype": "text/x-python",
   "name": "python",
   "nbconvert_exporter": "python",
   "pygments_lexer": "ipython3",
   "version": "3.10.4"
  }
 },
 "nbformat": 4,
 "nbformat_minor": 5
}
